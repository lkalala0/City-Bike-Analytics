{
 "cells": [
  {
   "cell_type": "code",
   "execution_count": 1,
   "metadata": {
    "ExecuteTime": {
     "end_time": "2019-11-13T19:39:27.792223Z",
     "start_time": "2019-11-13T19:39:08.942225Z"
    }
   },
   "outputs": [],
   "source": [
    "import pandas as pd\n",
    "import numpy as np"
   ]
  },
  {
   "cell_type": "code",
   "execution_count": 2,
   "metadata": {
    "ExecuteTime": {
     "end_time": "2019-11-13T19:39:27.803208Z",
     "start_time": "2019-11-13T19:39:27.796206Z"
    }
   },
   "outputs": [],
   "source": [
    "def open_file(x):\n",
    "    return pd.read_csv(x)"
   ]
  },
  {
   "cell_type": "code",
   "execution_count": 3,
   "metadata": {
    "ExecuteTime": {
     "end_time": "2019-11-13T19:41:26.282508Z",
     "start_time": "2019-11-13T19:39:27.809207Z"
    }
   },
   "outputs": [],
   "source": [
    "file1 = open_file('2017 (1).csv')\n",
    "file2 = open_file('2017 (2).csv')\n",
    "file3 = open_file('2017 (3).csv')\n",
    "file4 = open_file('2017 (4).csv')\n",
    "file5 = open_file('2017 (5).csv')\n",
    "file6 = open_file('2017 (6).csv')\n",
    "file7 = open_file('2017 (7).csv')\n",
    "file8 = open_file('2017 (8).csv')\n",
    "file9 = open_file('2017 (9).csv')\n",
    "file10 = open_file('2017 (10).csv')\n",
    "file11= open_file('2017 (11).csv')\n",
    "file12= open_file('2017 (12).csv')\n",
    "\n",
    "#file1.sample(2)"
   ]
  },
  {
   "cell_type": "code",
   "execution_count": 4,
   "metadata": {
    "ExecuteTime": {
     "end_time": "2019-11-13T19:41:26.338511Z",
     "start_time": "2019-11-13T19:41:26.298513Z"
    }
   },
   "outputs": [
    {
     "data": {
      "text/plain": [
       "(889967, 15)"
      ]
     },
     "execution_count": 4,
     "metadata": {},
     "output_type": "execute_result"
    }
   ],
   "source": [
    "file1.shape"
   ]
  },
  {
   "cell_type": "code",
   "execution_count": 5,
   "metadata": {
    "ExecuteTime": {
     "end_time": "2019-11-13T19:41:26.781654Z",
     "start_time": "2019-11-13T19:41:26.343513Z"
    }
   },
   "outputs": [],
   "source": [
    "file1.rename(columns = {'Trip Duration': 'tripduration', 'Start Time': 'starttime', \n",
    "                      'Stop Time': 'stoptime', 'Gender':'gender', \"User Type\": \"usertype\",\n",
    "                      'Bike ID': 'bikeid', 'Birth Year': 'birth year', 'Start Station ID': 'start station id',\n",
    "                      'Start Station Name': 'start station name', 'Start Station Latitude': 'start station latitude',\n",
    "                      'Start Station Longitude': 'start station longitude', 'End Station ID': 'end station id', \n",
    "                      'End Station Name': 'end station name', 'End Station Latitude': 'end station latitude',\n",
    "                      'End Station Longitude': 'end station longitude'}, inplace = True)"
   ]
  },
  {
   "cell_type": "code",
   "execution_count": 6,
   "metadata": {
    "ExecuteTime": {
     "end_time": "2019-11-13T19:41:27.052678Z",
     "start_time": "2019-11-13T19:41:26.787657Z"
    }
   },
   "outputs": [],
   "source": [
    "file2.rename(columns = {'Trip Duration': 'tripduration', 'Start Time': 'starttime', \n",
    "                      'Stop Time': 'stoptime', 'Gender':'gender', \"User Type\": \"usertype\",\n",
    "                      'Bike ID': 'bikeid', 'Birth Year': 'birth year', 'Start Station ID': 'start station id',\n",
    "                      'Start Station Name': 'start station name', 'Start Station Latitude': 'start station latitude',\n",
    "                      'Start Station Longitude': 'start station longitude', 'End Station ID': 'end station id', \n",
    "                      'End Station Name': 'end station name', 'End Station Latitude': 'end station latitude',\n",
    "                      'End Station Longitude': 'end station longitude'}, inplace = True)"
   ]
  },
  {
   "cell_type": "code",
   "execution_count": 7,
   "metadata": {
    "ExecuteTime": {
     "end_time": "2019-11-13T19:41:27.070681Z",
     "start_time": "2019-11-13T19:41:27.058678Z"
    }
   },
   "outputs": [],
   "source": [
    "def rename_file(x):\n",
    "    return x.rename(columns = {'Trip Duration': 'tripduration', 'Start Time': 'starttime', \n",
    "                      'Stop Time': 'stoptime', 'Gender':'gender', \"User Type\": \"usertype\",\n",
    "                      'Bike ID': 'bikeid', 'Birth Year': 'birth year', 'Start Station ID': 'start station id',\n",
    "                      'Start Station Name': 'start station name', 'Start Station Latitude': 'start station latitude',\n",
    "                      'Start Station Longitude': 'start station longitude', 'End Station ID': 'end station id', \n",
    "                      'End Station Name': 'end station name', 'End Station Latitude': 'end station latitude',\n",
    "                      'End Station Longitude': 'end station longitude'}, inplace = True)"
   ]
  },
  {
   "cell_type": "code",
   "execution_count": 8,
   "metadata": {
    "ExecuteTime": {
     "end_time": "2019-11-13T19:41:27.499714Z",
     "start_time": "2019-11-13T19:41:27.079681Z"
    }
   },
   "outputs": [],
   "source": [
    "rename_file(file3)"
   ]
  },
  {
   "cell_type": "code",
   "execution_count": 9,
   "metadata": {
    "ExecuteTime": {
     "end_time": "2019-11-13T19:41:32.684156Z",
     "start_time": "2019-11-13T19:41:27.504715Z"
    }
   },
   "outputs": [],
   "source": [
    "rename_file(file4)\n",
    "rename_file(file5)\n",
    "rename_file(file6)\n",
    "rename_file(file7)\n",
    "rename_file(file8)\n",
    "rename_file(file9)\n",
    "rename_file(file10)\n",
    "rename_file(file11)\n",
    "rename_file(file12)"
   ]
  },
  {
   "cell_type": "code",
   "execution_count": 10,
   "metadata": {
    "ExecuteTime": {
     "end_time": "2019-11-13T19:42:07.520341Z",
     "start_time": "2019-11-13T19:41:32.750149Z"
    }
   },
   "outputs": [],
   "source": [
    "new_data = pd.concat([file1,file2,file3,file4,file5,file6,file7,file8,file9,file10,file11,file12])"
   ]
  },
  {
   "cell_type": "code",
   "execution_count": 11,
   "metadata": {
    "ExecuteTime": {
     "end_time": "2019-11-13T19:42:07.923375Z",
     "start_time": "2019-11-13T19:42:07.640352Z"
    }
   },
   "outputs": [
    {
     "data": {
      "text/plain": [
       "(16364657, 15)"
      ]
     },
     "execution_count": 11,
     "metadata": {},
     "output_type": "execute_result"
    }
   ],
   "source": [
    "new_data.shape"
   ]
  },
  {
   "cell_type": "code",
   "execution_count": 12,
   "metadata": {
    "ExecuteTime": {
     "end_time": "2019-11-13T19:42:14.363438Z",
     "start_time": "2019-11-13T19:42:07.929376Z"
    }
   },
   "outputs": [
    {
     "data": {
      "text/html": [
       "<div>\n",
       "<style scoped>\n",
       "    .dataframe tbody tr th:only-of-type {\n",
       "        vertical-align: middle;\n",
       "    }\n",
       "\n",
       "    .dataframe tbody tr th {\n",
       "        vertical-align: top;\n",
       "    }\n",
       "\n",
       "    .dataframe thead th {\n",
       "        text-align: right;\n",
       "    }\n",
       "</style>\n",
       "<table border=\"1\" class=\"dataframe\">\n",
       "  <thead>\n",
       "    <tr style=\"text-align: right;\">\n",
       "      <th></th>\n",
       "      <th>tripduration</th>\n",
       "      <th>starttime</th>\n",
       "      <th>stoptime</th>\n",
       "      <th>start station id</th>\n",
       "      <th>start station name</th>\n",
       "      <th>start station latitude</th>\n",
       "      <th>start station longitude</th>\n",
       "      <th>end station id</th>\n",
       "      <th>end station name</th>\n",
       "      <th>end station latitude</th>\n",
       "      <th>end station longitude</th>\n",
       "      <th>bikeid</th>\n",
       "      <th>usertype</th>\n",
       "      <th>birth year</th>\n",
       "      <th>gender</th>\n",
       "    </tr>\n",
       "  </thead>\n",
       "  <tbody>\n",
       "    <tr>\n",
       "      <th>0</th>\n",
       "      <td>256</td>\n",
       "      <td>2017-12-01 00:00:00</td>\n",
       "      <td>2017-12-01 00:04:17</td>\n",
       "      <td>324</td>\n",
       "      <td>DeKalb Ave &amp; Hudson Ave</td>\n",
       "      <td>40.689888</td>\n",
       "      <td>-73.981013</td>\n",
       "      <td>262</td>\n",
       "      <td>Washington Park</td>\n",
       "      <td>40.691782</td>\n",
       "      <td>-73.973730</td>\n",
       "      <td>18858</td>\n",
       "      <td>Subscriber</td>\n",
       "      <td>1981.0</td>\n",
       "      <td>1</td>\n",
       "    </tr>\n",
       "    <tr>\n",
       "      <th>1</th>\n",
       "      <td>325</td>\n",
       "      <td>2017-12-01 00:00:17</td>\n",
       "      <td>2017-12-01 00:05:43</td>\n",
       "      <td>470</td>\n",
       "      <td>W 20 St &amp; 8 Ave</td>\n",
       "      <td>40.743453</td>\n",
       "      <td>-74.000040</td>\n",
       "      <td>490</td>\n",
       "      <td>8 Ave &amp; W 33 St</td>\n",
       "      <td>40.751551</td>\n",
       "      <td>-73.993934</td>\n",
       "      <td>19306</td>\n",
       "      <td>Subscriber</td>\n",
       "      <td>1992.0</td>\n",
       "      <td>1</td>\n",
       "    </tr>\n",
       "    <tr>\n",
       "      <th>2</th>\n",
       "      <td>967</td>\n",
       "      <td>2017-12-01 00:00:19</td>\n",
       "      <td>2017-12-01 00:16:26</td>\n",
       "      <td>347</td>\n",
       "      <td>Greenwich St &amp; W Houston St</td>\n",
       "      <td>40.728846</td>\n",
       "      <td>-74.008591</td>\n",
       "      <td>504</td>\n",
       "      <td>1 Ave &amp; E 16 St</td>\n",
       "      <td>40.732219</td>\n",
       "      <td>-73.981656</td>\n",
       "      <td>28250</td>\n",
       "      <td>Subscriber</td>\n",
       "      <td>1992.0</td>\n",
       "      <td>1</td>\n",
       "    </tr>\n",
       "    <tr>\n",
       "      <th>3</th>\n",
       "      <td>125</td>\n",
       "      <td>2017-12-01 00:00:20</td>\n",
       "      <td>2017-12-01 00:02:26</td>\n",
       "      <td>3077</td>\n",
       "      <td>Stagg St &amp; Union Ave</td>\n",
       "      <td>40.708771</td>\n",
       "      <td>-73.950953</td>\n",
       "      <td>3454</td>\n",
       "      <td>Leonard St &amp; Maujer St</td>\n",
       "      <td>40.710369</td>\n",
       "      <td>-73.947060</td>\n",
       "      <td>25834</td>\n",
       "      <td>Subscriber</td>\n",
       "      <td>1988.0</td>\n",
       "      <td>1</td>\n",
       "    </tr>\n",
       "    <tr>\n",
       "      <th>4</th>\n",
       "      <td>451</td>\n",
       "      <td>2017-12-01 00:00:28</td>\n",
       "      <td>2017-12-01 00:08:00</td>\n",
       "      <td>368</td>\n",
       "      <td>Carmine St &amp; 6 Ave</td>\n",
       "      <td>40.730386</td>\n",
       "      <td>-74.002150</td>\n",
       "      <td>326</td>\n",
       "      <td>E 11 St &amp; 1 Ave</td>\n",
       "      <td>40.729538</td>\n",
       "      <td>-73.984267</td>\n",
       "      <td>14769</td>\n",
       "      <td>Subscriber</td>\n",
       "      <td>1986.0</td>\n",
       "      <td>1</td>\n",
       "    </tr>\n",
       "  </tbody>\n",
       "</table>\n",
       "</div>"
      ],
      "text/plain": [
       "   tripduration            starttime             stoptime  start station id  \\\n",
       "0           256  2017-12-01 00:00:00  2017-12-01 00:04:17               324   \n",
       "1           325  2017-12-01 00:00:17  2017-12-01 00:05:43               470   \n",
       "2           967  2017-12-01 00:00:19  2017-12-01 00:16:26               347   \n",
       "3           125  2017-12-01 00:00:20  2017-12-01 00:02:26              3077   \n",
       "4           451  2017-12-01 00:00:28  2017-12-01 00:08:00               368   \n",
       "\n",
       "            start station name  start station latitude  \\\n",
       "0      DeKalb Ave & Hudson Ave               40.689888   \n",
       "1              W 20 St & 8 Ave               40.743453   \n",
       "2  Greenwich St & W Houston St               40.728846   \n",
       "3         Stagg St & Union Ave               40.708771   \n",
       "4           Carmine St & 6 Ave               40.730386   \n",
       "\n",
       "   start station longitude  end station id        end station name  \\\n",
       "0               -73.981013             262         Washington Park   \n",
       "1               -74.000040             490         8 Ave & W 33 St   \n",
       "2               -74.008591             504         1 Ave & E 16 St   \n",
       "3               -73.950953            3454  Leonard St & Maujer St   \n",
       "4               -74.002150             326         E 11 St & 1 Ave   \n",
       "\n",
       "   end station latitude  end station longitude  bikeid    usertype  \\\n",
       "0             40.691782             -73.973730   18858  Subscriber   \n",
       "1             40.751551             -73.993934   19306  Subscriber   \n",
       "2             40.732219             -73.981656   28250  Subscriber   \n",
       "3             40.710369             -73.947060   25834  Subscriber   \n",
       "4             40.729538             -73.984267   14769  Subscriber   \n",
       "\n",
       "   birth year  gender  \n",
       "0      1981.0       1  \n",
       "1      1992.0       1  \n",
       "2      1992.0       1  \n",
       "3      1988.0       1  \n",
       "4      1986.0       1  "
      ]
     },
     "execution_count": 12,
     "metadata": {},
     "output_type": "execute_result"
    }
   ],
   "source": [
    "new_data.head()"
   ]
  },
  {
   "cell_type": "code",
   "execution_count": null,
   "metadata": {
    "ExecuteTime": {
     "start_time": "2019-11-13T19:39:08.981Z"
    }
   },
   "outputs": [],
   "source": [
    "new_data.to_csv('CityBike_Data.csv')"
   ]
  },
  {
   "cell_type": "code",
   "execution_count": null,
   "metadata": {},
   "outputs": [],
   "source": []
  }
 ],
 "metadata": {
  "kernelspec": {
   "display_name": "Python 3",
   "language": "python",
   "name": "python3"
  },
  "language_info": {
   "codemirror_mode": {
    "name": "ipython",
    "version": 3
   },
   "file_extension": ".py",
   "mimetype": "text/x-python",
   "name": "python",
   "nbconvert_exporter": "python",
   "pygments_lexer": "ipython3",
   "version": "3.7.3"
  }
 },
 "nbformat": 4,
 "nbformat_minor": 2
}
